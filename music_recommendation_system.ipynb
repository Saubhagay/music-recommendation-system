{
  "nbformat": 4,
  "nbformat_minor": 0,
  "metadata": {
    "colab": {
      "provenance": []
    },
    "kernelspec": {
      "name": "python3",
      "display_name": "Python 3"
    },
    "language_info": {
      "name": "python"
    }
  },
  "cells": [
    {
      "cell_type": "code",
      "execution_count": 14,
      "metadata": {
        "colab": {
          "base_uri": "https://localhost:8080/"
        },
        "id": "NHilXGXEpzrB",
        "outputId": "b4848dad-a5ac-40e2-c904-67fc34033205"
      },
      "outputs": [
        {
          "output_type": "stream",
          "name": "stdout",
          "text": [
            "Enter a song name to get recommendations: waka waka\n",
            "                                       name                    artists  year  \\\n",
            "166111                               Salomé               ['Chayanne']  1998   \n",
            "169824                              Worship                  ['Lizzo']  2016   \n",
            "70704                                Salomé               ['Chayanne']  1998   \n",
            "31450   Out In L.A. - 2002 Digital Remaster  ['Red Hot Chili Peppers']  1984   \n",
            "149079                          Canned Heat             ['Jamiroquai']  1987   \n",
            "\n",
            "        popularity  \n",
            "166111          48  \n",
            "169824          53  \n",
            "70704           57  \n",
            "31450           52  \n",
            "149079          32  \n"
          ]
        }
      ],
      "source": [
        "import pandas as pd\n",
        "from sklearn.neighbors import NearestNeighbors\n",
        "from sklearn.preprocessing import StandardScaler\n",
        "\n",
        "# Load the dataset\n",
        "file_path = 'data.csv'  # Update this path to your actual file\n",
        "data = pd.read_csv(file_path)\n",
        "\n",
        "# Select relevant features for similarity calculations\n",
        "features = data[['valence', 'acousticness', 'danceability', 'energy',\n",
        "                 'instrumentalness', 'liveness', 'speechiness', 'tempo']]\n",
        "\n",
        "# Normalize features for better similarity calculations\n",
        "scaler = StandardScaler()\n",
        "scaled_features = scaler.fit_transform(features)\n",
        "\n",
        "# Initialize the nearest neighbors model\n",
        "neighbors_model = NearestNeighbors(metric='cosine', algorithm='brute')\n",
        "neighbors_model.fit(scaled_features)\n",
        "\n",
        "# Function to find song index by name\n",
        "def find_song_index(song_name):\n",
        "    # Search for the song by name\n",
        "    song = data[data['name'].str.contains(song_name, case=False, na=False)]\n",
        "    if song.empty:\n",
        "        print(\"Song not found.\")\n",
        "        return None\n",
        "    return song.index[0]\n",
        "\n",
        "# Function to recommend songs based on a song name input\n",
        "def recommend_songs_by_name(song_name, num_recommendations=5):\n",
        "    song_index = find_song_index(song_name)\n",
        "    if song_index is None:\n",
        "        return None\n",
        "    # Reshape the target song's features for querying\n",
        "    song_features = scaled_features[song_index].reshape(1, -1)\n",
        "    # Find the nearest neighbors (similar songs)\n",
        "    distances, indices = neighbors_model.kneighbors(song_features, n_neighbors=num_recommendations + 1)\n",
        "    # Exclude the song itself and format recommendations\n",
        "    recommended_indices = indices.flatten()[1:]  # Exclude first (same song)\n",
        "    recommended_songs = data.iloc[recommended_indices]\n",
        "    return recommended_songs[['name', 'artists', 'year', 'popularity']]\n",
        "\n",
        "# Prompt user to enter a song name\n",
        "user_input = input(\"Enter a song name to get recommendations: \")\n",
        "recommended_songs = recommend_songs_by_name(user_input)\n",
        "\n",
        "# Display recommended songs\n",
        "if recommended_songs is not None:\n",
        "    print(recommended_songs)\n",
        "\n"
      ]
    },
    {
      "cell_type": "code",
      "source": [],
      "metadata": {
        "id": "lKm8lGi2v1cS"
      },
      "execution_count": null,
      "outputs": []
    }
  ]
}